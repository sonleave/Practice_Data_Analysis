{
 "cells": [
  {
   "cell_type": "code",
   "execution_count": 2,
   "metadata": {},
   "outputs": [],
   "source": [
    "import pandas as pd\n",
    "import numpy as np"
   ]
  },
  {
   "cell_type": "code",
   "execution_count": 3,
   "metadata": {},
   "outputs": [],
   "source": [
    "df_may = pd.read_csv(\"KRI-DAC_Jeju_data5.txt\")\n"
   ]
  },
  {
   "cell_type": "code",
   "execution_count": 134,
   "metadata": {},
   "outputs": [],
   "source": [
    "df_june = pd.read_csv(\"KRI-DAC_Jeju_data6.txt\")\n",
    "df_july = pd.read_csv(\"KRI-DAC_Jeju_data7.txt\")\n",
    "df_aug = pd.read_csv(\"KRI-DAC_Jeju_data8.txt\")"
   ]
  },
  {
   "cell_type": "markdown",
   "metadata": {},
   "source": [
    "YM : 기준년월\n",
    "\n",
    "SIDO : 지역대분류명\n",
    "\n",
    "SIGUNGU : 지역중분류명\n",
    "\n",
    "FranClass : 소상공인구분\n",
    "\n",
    "Type : 업종명\n",
    "\n",
    "Time : 시간대\n",
    "\n",
    "TotalSpent : 총사용금액\n",
    "\n",
    "DisSpent : 재난지원금 사용금액\n",
    "\n",
    "NumOfSpent : 총 이용건수\n",
    "\n",
    "NumOfDisSpent : 총 재난지원금 이용건수\n",
    "\n",
    "POINT_X, POINT_Y : X,Y 좌표\n",
    "\n",
    "시간대 : 2-6 : toqur, 6-11 : 오전, 11-15 : 점심, 15-18: 오후, 18-22 : 저녁, 22-02 : 심야 x : 무승인거래"
   ]
  },
  {
   "cell_type": "markdown",
   "metadata": {},
   "source": [
    "### 각 월별로 데이터가 분리되어있음"
   ]
  },
  {
   "cell_type": "markdown",
   "metadata": {},
   "source": [
    "## 월 별 결측치 확인"
   ]
  },
  {
   "cell_type": "code",
   "execution_count": 88,
   "metadata": {},
   "outputs": [
    {
     "data": {
      "text/plain": [
       "OBJECTID         0\n",
       "Field1           0\n",
       "YM               0\n",
       "SIDO             0\n",
       "SIGUNGU          0\n",
       "FranClass        0\n",
       "Type             0\n",
       "Time             0\n",
       "TotalSpent       0\n",
       "DisSpent         0\n",
       "NumofSpent       0\n",
       "NumofDisSpent    0\n",
       "POINT_X          0\n",
       "POINT_Y          0\n",
       "lat              0\n",
       "long             0\n",
       "address          0\n",
       "dtype: int64"
      ]
     },
     "execution_count": 88,
     "metadata": {},
     "output_type": "execute_result"
    }
   ],
   "source": [
    "df_may.isnull().sum()"
   ]
  },
  {
   "cell_type": "code",
   "execution_count": 89,
   "metadata": {},
   "outputs": [
    {
     "data": {
      "text/plain": [
       "OBJECTID         0\n",
       "Field1           0\n",
       "YM               0\n",
       "SIDO             0\n",
       "SIGUNGU          0\n",
       "FranClass        0\n",
       "Type             0\n",
       "Time             0\n",
       "TotalSpent       0\n",
       "DisSpent         0\n",
       "NumofSpent       0\n",
       "NumofDisSpent    0\n",
       "POINT_X          0\n",
       "POINT_Y          0\n",
       "lat              0\n",
       "long             0\n",
       "dtype: int64"
      ]
     },
     "execution_count": 89,
     "metadata": {},
     "output_type": "execute_result"
    }
   ],
   "source": [
    "df_june.isnull().sum()"
   ]
  },
  {
   "cell_type": "code",
   "execution_count": 90,
   "metadata": {},
   "outputs": [
    {
     "data": {
      "text/plain": [
       "OBJECTID         0\n",
       "Field1           0\n",
       "YM               0\n",
       "SIDO             0\n",
       "SIGUNGU          0\n",
       "X                0\n",
       "Y                0\n",
       "FranClass        0\n",
       "Type             0\n",
       "Time             0\n",
       "TotalSpent       0\n",
       "DisSpent         0\n",
       "NumofSpent       0\n",
       "NumofDisSpent    0\n",
       "POINT_X          0\n",
       "POINT_Y          0\n",
       "lat              0\n",
       "long             0\n",
       "dtype: int64"
      ]
     },
     "execution_count": 90,
     "metadata": {},
     "output_type": "execute_result"
    }
   ],
   "source": [
    "df_july.isnull().sum()"
   ]
  },
  {
   "cell_type": "code",
   "execution_count": 91,
   "metadata": {},
   "outputs": [
    {
     "data": {
      "text/plain": [
       "OBJECTID         0\n",
       "Field1           0\n",
       "YM               0\n",
       "SIDO             0\n",
       "SIGUNGU          0\n",
       "FranClass        0\n",
       "Type             0\n",
       "Time             0\n",
       "TotalSpent       0\n",
       "DisSpent         0\n",
       "NumofSpent       0\n",
       "NumofDisSpent    0\n",
       "POINT_X          0\n",
       "POINT_Y          0\n",
       "lat              0\n",
       "long             0\n",
       "dtype: int64"
      ]
     },
     "execution_count": 91,
     "metadata": {},
     "output_type": "execute_result"
    }
   ],
   "source": [
    "df_aug.isnull().sum()"
   ]
  },
  {
   "cell_type": "markdown",
   "metadata": {},
   "source": [
    "## X,Y좌표를 위도 경도로 변환"
   ]
  },
  {
   "cell_type": "code",
   "execution_count": 4,
   "metadata": {},
   "outputs": [
    {
     "name": "stdout",
     "output_type": "stream",
     "text": [
      "Collecting pyproj\n",
      "  Downloading https://files.pythonhosted.org/packages/14/59/872f1f0391e6d7e3e423f643a1c3b4890352b8b1ba42e8c1c149619950f4/pyproj-3.1.0-cp37-cp37m-win_amd64.whl (14.5MB)\n",
      "Requirement already satisfied: certifi in c:\\anaconda3\\lib\\site-packages (from pyproj) (2020.12.5)\n",
      "Installing collected packages: pyproj\n",
      "Successfully installed pyproj-3.1.0\n",
      "Note: you may need to restart the kernel to use updated packages.\n"
     ]
    }
   ],
   "source": [
    "pip install pyproj"
   ]
  },
  {
   "cell_type": "code",
   "execution_count": 5,
   "metadata": {},
   "outputs": [],
   "source": [
    "from pyproj import Proj,Transformer"
   ]
  },
  {
   "cell_type": "code",
   "execution_count": 6,
   "metadata": {},
   "outputs": [],
   "source": [
    "#UTM-K(Bessel) : 새주소지도에서 사용중\n",
    "#한반도 전체를 하나으 ㅣ좌표계로 나타낼 때 많이 사용하는 좌표계\n",
    "#proj_UTMK = Proj(init = 'epsg:5178')\n",
    "\n",
    "#WGS1984: GPS가 사용하는 좌표계\n",
    "#proj_WGS84 = Proj(init = 'epsg:4326')\n",
    "transformer = Transformer.from_crs('epsg:5179', 'epsg:4326')\n",
    "#transformer.transform(12, 12)\n",
    "#UTM-K -> WGS84\n",
    "def transform_utmk_to_w84(x, y):\n",
    "    return pd.Series(transformer.transform(x, y))"
   ]
  },
  {
   "cell_type": "code",
   "execution_count": 7,
   "metadata": {},
   "outputs": [],
   "source": [
    "def add_long_lat_feature(df):\n",
    "    df_long_lat = df.apply(lambda x :transform_utmk_to_w84(x.POINT_Y, x.POINT_X), axis =1)\n",
    "    df_long_lat.columns = ['lat', 'long']\n",
    "    return pd.concat([df, df_long_lat], axis = 1)"
   ]
  },
  {
   "cell_type": "code",
   "execution_count": 8,
   "metadata": {},
   "outputs": [],
   "source": [
    "df_may = add_long_lat_feature(df_may)"
   ]
  },
  {
   "cell_type": "code",
   "execution_count": 136,
   "metadata": {},
   "outputs": [],
   "source": [
    "df_june = add_long_lat_feature(df_june)"
   ]
  },
  {
   "cell_type": "code",
   "execution_count": 160,
   "metadata": {},
   "outputs": [],
   "source": [
    "df_july = add_long_lat_feature(df_july)\n",
    "df_aug = add_long_lat_feature(df_aug)"
   ]
  },
  {
   "cell_type": "code",
   "execution_count": 64,
   "metadata": {},
   "outputs": [
    {
     "name": "stdout",
     "output_type": "stream",
     "text": [
      "Requirement already satisfied: requests in c:\\anaconda3\\lib\\site-packages (2.22.0)\n",
      "Requirement already satisfied: urllib3!=1.25.0,!=1.25.1,<1.26,>=1.21.1 in c:\\anaconda3\\lib\\site-packages (from requests) (1.24.2)\n",
      "Requirement already satisfied: chardet<3.1.0,>=3.0.2 in c:\\anaconda3\\lib\\site-packages (from requests) (3.0.4)\n",
      "Requirement already satisfied: idna<2.9,>=2.5 in c:\\anaconda3\\lib\\site-packages (from requests) (2.8)\n",
      "Requirement already satisfied: certifi>=2017.4.17 in c:\\anaconda3\\lib\\site-packages (from requests) (2020.12.5)\n",
      "Note: you may need to restart the kernel to use updated packages.\n"
     ]
    }
   ],
   "source": [
    "pip install requests"
   ]
  },
  {
   "cell_type": "markdown",
   "metadata": {},
   "source": [
    "## 카카오 API를 통하여 위도경도 정보를 주소로 변환"
   ]
  },
  {
   "cell_type": "code",
   "execution_count": 65,
   "metadata": {},
   "outputs": [],
   "source": [
    "import requests\n",
    "import json"
   ]
  },
  {
   "cell_type": "code",
   "execution_count": 66,
   "metadata": {},
   "outputs": [],
   "source": [
    "APP_KEY = \"2729ea07c6c8d521d0fde6d8c164f58d\"\n",
    "URL = 'https://dapi.kakao.com/v2/local/geo/coord2regioncode.json'"
   ]
  },
  {
   "cell_type": "code",
   "execution_count": 68,
   "metadata": {},
   "outputs": [],
   "source": [
    "def json_request(url='', encoding='utf-8', success=None, error=lambda e: print('%s : %s' % (e, datetime.now()), file=sys.stderr)):\n",
    "    headers = {'Authorization': 'KakaoAK {}'.format(APP_KEY)}\n",
    "    resp = requests.get(url, headers=headers)\n",
    "    #print('%s : success for request [%s]' % (datetime.now(), url))\n",
    "    return resp.text\n",
    "\n",
    "\n",
    "def reverse_geocode(longitude, latitude):\n",
    "    # 파라미터 최적화하여 url 생성\n",
    "    url = '%s?x=%s&y=%s' %(URL, longitude, latitude)\n",
    "    # json request\n",
    "    try:\n",
    "        # print('try')\n",
    "        json_req = json_request(url=url)\n",
    "        json_data = json.loads(json_req)\n",
    "        json_doc = json_data.get('documents')[0]\n",
    "        json_name = json_doc.get('address_name')\n",
    "\n",
    "        #json_code = json_doc.get('code')\n",
    "    except:\n",
    "        # print('nan')\n",
    "        json_name = 'NaN'\n",
    "        json_code = 'NaN'\n",
    "    return json_name #json_code"
   ]
  },
  {
   "cell_type": "code",
   "execution_count": 69,
   "metadata": {},
   "outputs": [
    {
     "data": {
      "text/html": [
       "<div>\n",
       "<style scoped>\n",
       "    .dataframe tbody tr th:only-of-type {\n",
       "        vertical-align: middle;\n",
       "    }\n",
       "\n",
       "    .dataframe tbody tr th {\n",
       "        vertical-align: top;\n",
       "    }\n",
       "\n",
       "    .dataframe thead th {\n",
       "        text-align: right;\n",
       "    }\n",
       "</style>\n",
       "<table border=\"1\" class=\"dataframe\">\n",
       "  <thead>\n",
       "    <tr style=\"text-align: right;\">\n",
       "      <th></th>\n",
       "      <th>lat</th>\n",
       "      <th>long</th>\n",
       "      <th>count</th>\n",
       "    </tr>\n",
       "  </thead>\n",
       "  <tbody>\n",
       "    <tr>\n",
       "      <td>0</td>\n",
       "      <td>33.512906</td>\n",
       "      <td>126.524279</td>\n",
       "      <td>400</td>\n",
       "    </tr>\n",
       "    <tr>\n",
       "      <td>1</td>\n",
       "      <td>33.498992</td>\n",
       "      <td>126.529357</td>\n",
       "      <td>314</td>\n",
       "    </tr>\n",
       "    <tr>\n",
       "      <td>2</td>\n",
       "      <td>33.499887</td>\n",
       "      <td>126.528804</td>\n",
       "      <td>309</td>\n",
       "    </tr>\n",
       "    <tr>\n",
       "      <td>3</td>\n",
       "      <td>33.485749</td>\n",
       "      <td>126.477935</td>\n",
       "      <td>275</td>\n",
       "    </tr>\n",
       "    <tr>\n",
       "      <td>4</td>\n",
       "      <td>33.247397</td>\n",
       "      <td>126.563626</td>\n",
       "      <td>258</td>\n",
       "    </tr>\n",
       "    <tr>\n",
       "      <td>...</td>\n",
       "      <td>...</td>\n",
       "      <td>...</td>\n",
       "      <td>...</td>\n",
       "    </tr>\n",
       "    <tr>\n",
       "      <td>13815</td>\n",
       "      <td>33.484292</td>\n",
       "      <td>126.433310</td>\n",
       "      <td>1</td>\n",
       "    </tr>\n",
       "    <tr>\n",
       "      <td>13816</td>\n",
       "      <td>33.484279</td>\n",
       "      <td>126.432234</td>\n",
       "      <td>1</td>\n",
       "    </tr>\n",
       "    <tr>\n",
       "      <td>13817</td>\n",
       "      <td>33.484245</td>\n",
       "      <td>126.429545</td>\n",
       "      <td>1</td>\n",
       "    </tr>\n",
       "    <tr>\n",
       "      <td>13818</td>\n",
       "      <td>33.484198</td>\n",
       "      <td>126.461823</td>\n",
       "      <td>1</td>\n",
       "    </tr>\n",
       "    <tr>\n",
       "      <td>13819</td>\n",
       "      <td>33.478181</td>\n",
       "      <td>126.561446</td>\n",
       "      <td>1</td>\n",
       "    </tr>\n",
       "  </tbody>\n",
       "</table>\n",
       "<p>13820 rows × 3 columns</p>\n",
       "</div>"
      ],
      "text/plain": [
       "             lat        long  count\n",
       "0      33.512906  126.524279    400\n",
       "1      33.498992  126.529357    314\n",
       "2      33.499887  126.528804    309\n",
       "3      33.485749  126.477935    275\n",
       "4      33.247397  126.563626    258\n",
       "...          ...         ...    ...\n",
       "13815  33.484292  126.433310      1\n",
       "13816  33.484279  126.432234      1\n",
       "13817  33.484245  126.429545      1\n",
       "13818  33.484198  126.461823      1\n",
       "13819  33.478181  126.561446      1\n",
       "\n",
       "[13820 rows x 3 columns]"
      ]
     },
     "execution_count": 69,
     "metadata": {},
     "output_type": "execute_result"
    }
   ],
   "source": [
    "spatio_data = df_may.groupby(['lat', 'long'])['OBJECTID'].count().sort_values(ascending = False).reset_index()\n",
    "spatio_data.rename(columns = {'OBJECTID' : 'count'})"
   ]
  },
  {
   "cell_type": "code",
   "execution_count": 72,
   "metadata": {},
   "outputs": [],
   "source": [
    "list_address = []\n",
    "for i in range(len(spatio_data)):\n",
    "    address = reverse_geocode(spatio_data['long'][i], spatio_data['lat'][i])\n",
    "    list_address.insert(i, address)"
   ]
  },
  {
   "cell_type": "code",
   "execution_count": 74,
   "metadata": {},
   "outputs": [],
   "source": [
    "df_address = pd.DataFrame({'address' : list_address})\n",
    "sptio_data = pd.concat([spatio_data, df_address], axis = 1)"
   ]
  },
  {
   "cell_type": "code",
   "execution_count": 83,
   "metadata": {},
   "outputs": [],
   "source": [
    "df_may = pd.merge(df_may, sptio_data[['lat', 'long', 'address']],  how = 'left', on = ['lat', 'long'])"
   ]
  },
  {
   "cell_type": "code",
   "execution_count": 85,
   "metadata": {},
   "outputs": [
    {
     "data": {
      "text/plain": [
       "OBJECTID         0\n",
       "Field1           0\n",
       "YM               0\n",
       "SIDO             0\n",
       "SIGUNGU          0\n",
       "FranClass        0\n",
       "Type             0\n",
       "Time             0\n",
       "TotalSpent       0\n",
       "DisSpent         0\n",
       "NumofSpent       0\n",
       "NumofDisSpent    0\n",
       "POINT_X          0\n",
       "POINT_Y          0\n",
       "lat              0\n",
       "long             0\n",
       "address          0\n",
       "dtype: int64"
      ]
     },
     "execution_count": 85,
     "metadata": {},
     "output_type": "execute_result"
    }
   ],
   "source": [
    "df_may.isnull().sum()"
   ]
  },
  {
   "cell_type": "markdown",
   "metadata": {},
   "source": [
    "결측치가 없음을 확인"
   ]
  },
  {
   "cell_type": "code",
   "execution_count": 138,
   "metadata": {},
   "outputs": [
    {
     "data": {
      "text/html": [
       "<div>\n",
       "<style scoped>\n",
       "    .dataframe tbody tr th:only-of-type {\n",
       "        vertical-align: middle;\n",
       "    }\n",
       "\n",
       "    .dataframe tbody tr th {\n",
       "        vertical-align: top;\n",
       "    }\n",
       "\n",
       "    .dataframe thead th {\n",
       "        text-align: right;\n",
       "    }\n",
       "</style>\n",
       "<table border=\"1\" class=\"dataframe\">\n",
       "  <thead>\n",
       "    <tr style=\"text-align: right;\">\n",
       "      <th></th>\n",
       "      <th>lat</th>\n",
       "      <th>long</th>\n",
       "      <th>OBJECTID</th>\n",
       "    </tr>\n",
       "  </thead>\n",
       "  <tbody>\n",
       "    <tr>\n",
       "      <td>0</td>\n",
       "      <td>33.512906</td>\n",
       "      <td>126.524279</td>\n",
       "      <td>400</td>\n",
       "    </tr>\n",
       "    <tr>\n",
       "      <td>1</td>\n",
       "      <td>33.498992</td>\n",
       "      <td>126.529357</td>\n",
       "      <td>314</td>\n",
       "    </tr>\n",
       "    <tr>\n",
       "      <td>2</td>\n",
       "      <td>33.499887</td>\n",
       "      <td>126.528804</td>\n",
       "      <td>309</td>\n",
       "    </tr>\n",
       "    <tr>\n",
       "      <td>3</td>\n",
       "      <td>33.485749</td>\n",
       "      <td>126.477935</td>\n",
       "      <td>275</td>\n",
       "    </tr>\n",
       "    <tr>\n",
       "      <td>4</td>\n",
       "      <td>33.247397</td>\n",
       "      <td>126.563626</td>\n",
       "      <td>258</td>\n",
       "    </tr>\n",
       "    <tr>\n",
       "      <td>...</td>\n",
       "      <td>...</td>\n",
       "      <td>...</td>\n",
       "      <td>...</td>\n",
       "    </tr>\n",
       "    <tr>\n",
       "      <td>13815</td>\n",
       "      <td>33.484292</td>\n",
       "      <td>126.433310</td>\n",
       "      <td>1</td>\n",
       "    </tr>\n",
       "    <tr>\n",
       "      <td>13816</td>\n",
       "      <td>33.484279</td>\n",
       "      <td>126.432234</td>\n",
       "      <td>1</td>\n",
       "    </tr>\n",
       "    <tr>\n",
       "      <td>13817</td>\n",
       "      <td>33.484245</td>\n",
       "      <td>126.429545</td>\n",
       "      <td>1</td>\n",
       "    </tr>\n",
       "    <tr>\n",
       "      <td>13818</td>\n",
       "      <td>33.484198</td>\n",
       "      <td>126.461823</td>\n",
       "      <td>1</td>\n",
       "    </tr>\n",
       "    <tr>\n",
       "      <td>13819</td>\n",
       "      <td>33.478181</td>\n",
       "      <td>126.561446</td>\n",
       "      <td>1</td>\n",
       "    </tr>\n",
       "  </tbody>\n",
       "</table>\n",
       "<p>13820 rows × 3 columns</p>\n",
       "</div>"
      ],
      "text/plain": [
       "             lat        long  OBJECTID\n",
       "0      33.512906  126.524279       400\n",
       "1      33.498992  126.529357       314\n",
       "2      33.499887  126.528804       309\n",
       "3      33.485749  126.477935       275\n",
       "4      33.247397  126.563626       258\n",
       "...          ...         ...       ...\n",
       "13815  33.484292  126.433310         1\n",
       "13816  33.484279  126.432234         1\n",
       "13817  33.484245  126.429545         1\n",
       "13818  33.484198  126.461823         1\n",
       "13819  33.478181  126.561446         1\n",
       "\n",
       "[13820 rows x 3 columns]"
      ]
     },
     "execution_count": 138,
     "metadata": {},
     "output_type": "execute_result"
    }
   ],
   "source": [
    "spatio_data"
   ]
  },
  {
   "cell_type": "code",
   "execution_count": 139,
   "metadata": {},
   "outputs": [],
   "source": [
    "spatio_data = df_may.groupby(['lat', 'long', 'address'])['OBJECTID'].count().sort_values(ascending = False).reset_index()"
   ]
  },
  {
   "cell_type": "code",
   "execution_count": 142,
   "metadata": {},
   "outputs": [],
   "source": [
    "df_june = pd.merge(df_june, spatio_data[['lat', 'long', 'address']],  how = 'left', on = ['lat', 'long'])"
   ]
  },
  {
   "cell_type": "code",
   "execution_count": 145,
   "metadata": {},
   "outputs": [
    {
     "data": {
      "text/plain": [
       "OBJECTID            0\n",
       "Field1              0\n",
       "YM                  0\n",
       "SIDO                0\n",
       "SIGUNGU             0\n",
       "FranClass           0\n",
       "Type                0\n",
       "Time                0\n",
       "TotalSpent          0\n",
       "DisSpent            0\n",
       "NumofSpent          0\n",
       "NumofDisSpent       0\n",
       "POINT_X             0\n",
       "POINT_Y             0\n",
       "lat                 0\n",
       "long                0\n",
       "address          1796\n",
       "dtype: int64"
      ]
     },
     "execution_count": 145,
     "metadata": {},
     "output_type": "execute_result"
    }
   ],
   "source": [
    "df_june.isnull().sum()"
   ]
  },
  {
   "cell_type": "markdown",
   "metadata": {},
   "source": [
    "5,6,7,8이 되면서 새로운 좌표도 점차 생긴 것을 확인해볼 수 있다"
   ]
  },
  {
   "cell_type": "code",
   "execution_count": 147,
   "metadata": {},
   "outputs": [],
   "source": [
    "june_spatio = df_june[df_june['address'].isnull()].groupby(['lat', 'long'])['OBJECTID'].count().sort_values(ascending = False).reset_index()"
   ]
  },
  {
   "cell_type": "code",
   "execution_count": 148,
   "metadata": {},
   "outputs": [],
   "source": [
    "june_spatio = june_spatio.rename(columns = {'OBJECTID' : 'count'})"
   ]
  },
  {
   "cell_type": "code",
   "execution_count": 149,
   "metadata": {},
   "outputs": [],
   "source": [
    "list_address = []\n",
    "for i in range(len(june_spatio)):\n",
    "    address = reverse_geocode(june_spatio['long'][i], june_spatio['lat'][i])\n",
    "    list_address.insert(i, address)"
   ]
  },
  {
   "cell_type": "code",
   "execution_count": 150,
   "metadata": {},
   "outputs": [],
   "source": [
    "df_address = pd.DataFrame({'address' : list_address})\n",
    "june_spatio = pd.concat([june_spatio, df_address], axis = 1)"
   ]
  },
  {
   "cell_type": "code",
   "execution_count": 153,
   "metadata": {},
   "outputs": [],
   "source": [
    "df_empty_june = pd.merge(df_june[df_june['address'].isnull()].drop(['address'], axis = 1), june_spatio[['lat', 'long', 'address']],  how = 'left', on = ['lat', 'long'])"
   ]
  },
  {
   "cell_type": "code",
   "execution_count": 155,
   "metadata": {},
   "outputs": [],
   "source": [
    "df_june = df_june.drop(df_june[df_june['address'].isnull()].index, axis = 0)"
   ]
  },
  {
   "cell_type": "code",
   "execution_count": 157,
   "metadata": {},
   "outputs": [],
   "source": [
    "df_june = pd.concat([df_june, df_empty_june], axis = 0)"
   ]
  },
  {
   "cell_type": "code",
   "execution_count": 159,
   "metadata": {},
   "outputs": [
    {
     "data": {
      "text/plain": [
       "OBJECTID         0\n",
       "Field1           0\n",
       "YM               0\n",
       "SIDO             0\n",
       "SIGUNGU          0\n",
       "FranClass        0\n",
       "Type             0\n",
       "Time             0\n",
       "TotalSpent       0\n",
       "DisSpent         0\n",
       "NumofSpent       0\n",
       "NumofDisSpent    0\n",
       "POINT_X          0\n",
       "POINT_Y          0\n",
       "lat              0\n",
       "long             0\n",
       "address          0\n",
       "dtype: int64"
      ]
     },
     "execution_count": 159,
     "metadata": {},
     "output_type": "execute_result"
    }
   ],
   "source": [
    "df_june.isnull().sum()"
   ]
  },
  {
   "cell_type": "code",
   "execution_count": 161,
   "metadata": {},
   "outputs": [],
   "source": [
    "spatio_data = df_june.groupby(['lat', 'long', 'address'])['OBJECTID'].count().sort_values(ascending = False).reset_index()"
   ]
  },
  {
   "cell_type": "code",
   "execution_count": 162,
   "metadata": {},
   "outputs": [],
   "source": [
    "df_july = pd.merge(df_july, spatio_data[['lat', 'long', 'address']],  how = 'left', on = ['lat', 'long'])"
   ]
  },
  {
   "cell_type": "code",
   "execution_count": 163,
   "metadata": {},
   "outputs": [],
   "source": [
    "july_spatio = df_july[df_july['address'].isnull()].groupby(['lat', 'long'])['OBJECTID'].count().sort_values(ascending = False).reset_index()"
   ]
  },
  {
   "cell_type": "code",
   "execution_count": 164,
   "metadata": {},
   "outputs": [],
   "source": [
    "july_spatio = july_spatio.rename(columns = {'OBJECTID' : 'count'})"
   ]
  },
  {
   "cell_type": "code",
   "execution_count": 166,
   "metadata": {},
   "outputs": [],
   "source": [
    "list_address = []\n",
    "for i in range(len(july_spatio)):\n",
    "    address = reverse_geocode(july_spatio['long'][i], july_spatio['lat'][i])\n",
    "    list_address.insert(i, address)"
   ]
  },
  {
   "cell_type": "code",
   "execution_count": 167,
   "metadata": {},
   "outputs": [],
   "source": [
    "df_address = pd.DataFrame({'address' : list_address})\n",
    "july_spatio = pd.concat([july_spatio, df_address], axis = 1)"
   ]
  },
  {
   "cell_type": "code",
   "execution_count": 168,
   "metadata": {},
   "outputs": [],
   "source": [
    "df_empty_july = pd.merge(df_july[df_july['address'].isnull()].drop(['address'], axis = 1), july_spatio[['lat', 'long', 'address']],  how = 'left', on = ['lat', 'long'])"
   ]
  },
  {
   "cell_type": "code",
   "execution_count": 169,
   "metadata": {},
   "outputs": [],
   "source": [
    "df_july = df_july.drop(df_july[df_july['address'].isnull()].index, axis = 0)"
   ]
  },
  {
   "cell_type": "code",
   "execution_count": 170,
   "metadata": {},
   "outputs": [],
   "source": [
    "df_july = pd.concat([df_july, df_empty_july], axis = 0)"
   ]
  },
  {
   "cell_type": "code",
   "execution_count": 173,
   "metadata": {},
   "outputs": [
    {
     "data": {
      "text/plain": [
       "OBJECTID         0\n",
       "Field1           0\n",
       "YM               0\n",
       "SIDO             0\n",
       "SIGUNGU          0\n",
       "X                0\n",
       "Y                0\n",
       "FranClass        0\n",
       "Type             0\n",
       "Time             0\n",
       "TotalSpent       0\n",
       "DisSpent         0\n",
       "NumofSpent       0\n",
       "NumofDisSpent    0\n",
       "POINT_X          0\n",
       "POINT_Y          0\n",
       "lat              0\n",
       "long             0\n",
       "address          0\n",
       "dtype: int64"
      ]
     },
     "execution_count": 173,
     "metadata": {},
     "output_type": "execute_result"
    }
   ],
   "source": [
    "df_july.isnull().sum()"
   ]
  },
  {
   "cell_type": "code",
   "execution_count": 174,
   "metadata": {},
   "outputs": [],
   "source": [
    "spatio_data = df_july.groupby(['lat', 'long', 'address'])['OBJECTID'].count().sort_values(ascending = False).reset_index()"
   ]
  },
  {
   "cell_type": "code",
   "execution_count": 175,
   "metadata": {},
   "outputs": [],
   "source": [
    "df_aug = pd.merge(df_aug, spatio_data[['lat', 'long', 'address']],  how = 'left', on = ['lat', 'long'])"
   ]
  },
  {
   "cell_type": "code",
   "execution_count": 176,
   "metadata": {},
   "outputs": [],
   "source": [
    "aug_spatio = df_aug[df_aug['address'].isnull()].groupby(['lat', 'long'])['OBJECTID'].count().sort_values(ascending = False).reset_index()"
   ]
  },
  {
   "cell_type": "code",
   "execution_count": 177,
   "metadata": {},
   "outputs": [],
   "source": [
    "aug_spatio = aug_spatio.rename(columns = {'OBJECTID' : 'count'})"
   ]
  },
  {
   "cell_type": "code",
   "execution_count": 178,
   "metadata": {},
   "outputs": [],
   "source": [
    "list_address = []\n",
    "for i in range(len(aug_spatio)):\n",
    "    address = reverse_geocode(aug_spatio['long'][i], aug_spatio['lat'][i])\n",
    "    list_address.insert(i, address)"
   ]
  },
  {
   "cell_type": "code",
   "execution_count": 179,
   "metadata": {},
   "outputs": [],
   "source": [
    "df_address = pd.DataFrame({'address' : list_address})\n",
    "aug_spatio = pd.concat([aug_spatio, df_address], axis = 1)"
   ]
  },
  {
   "cell_type": "code",
   "execution_count": 180,
   "metadata": {},
   "outputs": [],
   "source": [
    "df_empty_aug = pd.merge(df_aug[df_aug['address'].isnull()].drop(['address'], axis = 1), aug_spatio[['lat', 'long', 'address']],  how = 'left', on = ['lat', 'long'])"
   ]
  },
  {
   "cell_type": "code",
   "execution_count": 181,
   "metadata": {},
   "outputs": [],
   "source": [
    "df_aug = df_aug.drop(df_aug[df_aug['address'].isnull()].index, axis = 0)"
   ]
  },
  {
   "cell_type": "code",
   "execution_count": 182,
   "metadata": {},
   "outputs": [],
   "source": [
    "df_aug = pd.concat([df_aug, df_empty_aug], axis = 0)"
   ]
  },
  {
   "cell_type": "code",
   "execution_count": 183,
   "metadata": {},
   "outputs": [
    {
     "data": {
      "text/html": [
       "<div>\n",
       "<style scoped>\n",
       "    .dataframe tbody tr th:only-of-type {\n",
       "        vertical-align: middle;\n",
       "    }\n",
       "\n",
       "    .dataframe tbody tr th {\n",
       "        vertical-align: top;\n",
       "    }\n",
       "\n",
       "    .dataframe thead th {\n",
       "        text-align: right;\n",
       "    }\n",
       "</style>\n",
       "<table border=\"1\" class=\"dataframe\">\n",
       "  <thead>\n",
       "    <tr style=\"text-align: right;\">\n",
       "      <th></th>\n",
       "      <th>OBJECTID</th>\n",
       "      <th>Field1</th>\n",
       "      <th>YM</th>\n",
       "      <th>SIDO</th>\n",
       "      <th>SIGUNGU</th>\n",
       "      <th>FranClass</th>\n",
       "      <th>Type</th>\n",
       "      <th>Time</th>\n",
       "      <th>TotalSpent</th>\n",
       "      <th>DisSpent</th>\n",
       "      <th>NumofSpent</th>\n",
       "      <th>NumofDisSpent</th>\n",
       "      <th>POINT_X</th>\n",
       "      <th>POINT_Y</th>\n",
       "      <th>lat</th>\n",
       "      <th>long</th>\n",
       "      <th>address</th>\n",
       "    </tr>\n",
       "  </thead>\n",
       "  <tbody>\n",
       "    <tr>\n",
       "      <td>0</td>\n",
       "      <td>1</td>\n",
       "      <td>1</td>\n",
       "      <td>202008</td>\n",
       "      <td>제주특별자치도</td>\n",
       "      <td>제주시</td>\n",
       "      <td>영세</td>\n",
       "      <td>일반한식</td>\n",
       "      <td>00시</td>\n",
       "      <td>249500</td>\n",
       "      <td>0</td>\n",
       "      <td>7</td>\n",
       "      <td>0</td>\n",
       "      <td>877005.9834</td>\n",
       "      <td>1.479766e+06</td>\n",
       "      <td>33.302315</td>\n",
       "      <td>126.178894</td>\n",
       "      <td>제주특별자치도 제주시 한경면 고산리</td>\n",
       "    </tr>\n",
       "    <tr>\n",
       "      <td>1</td>\n",
       "      <td>2</td>\n",
       "      <td>2</td>\n",
       "      <td>202008</td>\n",
       "      <td>제주특별자치도</td>\n",
       "      <td>제주시</td>\n",
       "      <td>영세</td>\n",
       "      <td>단란주점</td>\n",
       "      <td>00시</td>\n",
       "      <td>2010000</td>\n",
       "      <td>0</td>\n",
       "      <td>7</td>\n",
       "      <td>0</td>\n",
       "      <td>877005.7447</td>\n",
       "      <td>1.479816e+06</td>\n",
       "      <td>33.302766</td>\n",
       "      <td>126.178884</td>\n",
       "      <td>제주특별자치도 제주시 한경면 고산리</td>\n",
       "    </tr>\n",
       "    <tr>\n",
       "      <td>2</td>\n",
       "      <td>3</td>\n",
       "      <td>3</td>\n",
       "      <td>202008</td>\n",
       "      <td>제주특별자치도</td>\n",
       "      <td>제주시</td>\n",
       "      <td>중소1</td>\n",
       "      <td>편의점</td>\n",
       "      <td>00시</td>\n",
       "      <td>401210</td>\n",
       "      <td>0</td>\n",
       "      <td>41</td>\n",
       "      <td>0</td>\n",
       "      <td>877056.6756</td>\n",
       "      <td>1.479616e+06</td>\n",
       "      <td>33.300971</td>\n",
       "      <td>126.179458</td>\n",
       "      <td>제주특별자치도 제주시 한경면 고산리</td>\n",
       "    </tr>\n",
       "    <tr>\n",
       "      <td>3</td>\n",
       "      <td>4</td>\n",
       "      <td>4</td>\n",
       "      <td>202008</td>\n",
       "      <td>제주특별자치도</td>\n",
       "      <td>제주시</td>\n",
       "      <td>영세</td>\n",
       "      <td>편의점</td>\n",
       "      <td>00시</td>\n",
       "      <td>12250</td>\n",
       "      <td>0</td>\n",
       "      <td>1</td>\n",
       "      <td>0</td>\n",
       "      <td>877055.9593</td>\n",
       "      <td>1.479766e+06</td>\n",
       "      <td>33.302323</td>\n",
       "      <td>126.179430</td>\n",
       "      <td>제주특별자치도 제주시 한경면 고산리</td>\n",
       "    </tr>\n",
       "    <tr>\n",
       "      <td>4</td>\n",
       "      <td>5</td>\n",
       "      <td>5</td>\n",
       "      <td>202008</td>\n",
       "      <td>제주특별자치도</td>\n",
       "      <td>제주시</td>\n",
       "      <td>영세</td>\n",
       "      <td>주점</td>\n",
       "      <td>00시</td>\n",
       "      <td>33000</td>\n",
       "      <td>0</td>\n",
       "      <td>1</td>\n",
       "      <td>0</td>\n",
       "      <td>877055.4817</td>\n",
       "      <td>1.479866e+06</td>\n",
       "      <td>33.303224</td>\n",
       "      <td>126.179412</td>\n",
       "      <td>제주특별자치도 제주시 한경면 고산리</td>\n",
       "    </tr>\n",
       "    <tr>\n",
       "      <td>...</td>\n",
       "      <td>...</td>\n",
       "      <td>...</td>\n",
       "      <td>...</td>\n",
       "      <td>...</td>\n",
       "      <td>...</td>\n",
       "      <td>...</td>\n",
       "      <td>...</td>\n",
       "      <td>...</td>\n",
       "      <td>...</td>\n",
       "      <td>...</td>\n",
       "      <td>...</td>\n",
       "      <td>...</td>\n",
       "      <td>...</td>\n",
       "      <td>...</td>\n",
       "      <td>...</td>\n",
       "      <td>...</td>\n",
       "      <td>...</td>\n",
       "    </tr>\n",
       "    <tr>\n",
       "      <td>1585</td>\n",
       "      <td>279501</td>\n",
       "      <td>279501</td>\n",
       "      <td>202008</td>\n",
       "      <td>제주특별자치도</td>\n",
       "      <td>제주시</td>\n",
       "      <td>일반</td>\n",
       "      <td>서양음식</td>\n",
       "      <td>x시</td>\n",
       "      <td>10000</td>\n",
       "      <td>0</td>\n",
       "      <td>1</td>\n",
       "      <td>0</td>\n",
       "      <td>936031.5193</td>\n",
       "      <td>1.500490e+06</td>\n",
       "      <td>33.494351</td>\n",
       "      <td>126.811369</td>\n",
       "      <td>제주특별자치도 제주시 구좌읍 평대리</td>\n",
       "    </tr>\n",
       "    <tr>\n",
       "      <td>1586</td>\n",
       "      <td>279728</td>\n",
       "      <td>279728</td>\n",
       "      <td>202008</td>\n",
       "      <td>제주특별자치도</td>\n",
       "      <td>제주시</td>\n",
       "      <td>일반</td>\n",
       "      <td>서양음식</td>\n",
       "      <td>x시</td>\n",
       "      <td>2500</td>\n",
       "      <td>0</td>\n",
       "      <td>1</td>\n",
       "      <td>0</td>\n",
       "      <td>940163.7221</td>\n",
       "      <td>1.503859e+06</td>\n",
       "      <td>33.524971</td>\n",
       "      <td>126.855625</td>\n",
       "      <td>제주특별자치도 제주시 구좌읍 세화리</td>\n",
       "    </tr>\n",
       "    <tr>\n",
       "      <td>1587</td>\n",
       "      <td>279785</td>\n",
       "      <td>279785</td>\n",
       "      <td>202008</td>\n",
       "      <td>제주특별자치도</td>\n",
       "      <td>제주시</td>\n",
       "      <td>영세</td>\n",
       "      <td>기타숙박업</td>\n",
       "      <td>x시</td>\n",
       "      <td>17470</td>\n",
       "      <td>0</td>\n",
       "      <td>2</td>\n",
       "      <td>0</td>\n",
       "      <td>941114.0531</td>\n",
       "      <td>1.503713e+06</td>\n",
       "      <td>33.523713</td>\n",
       "      <td>126.865869</td>\n",
       "      <td>제주특별자치도 제주시 구좌읍 하도리</td>\n",
       "    </tr>\n",
       "    <tr>\n",
       "      <td>1588</td>\n",
       "      <td>279811</td>\n",
       "      <td>279811</td>\n",
       "      <td>202008</td>\n",
       "      <td>제주특별자치도</td>\n",
       "      <td>서귀포시</td>\n",
       "      <td>영세</td>\n",
       "      <td>제과점</td>\n",
       "      <td>x시</td>\n",
       "      <td>40000</td>\n",
       "      <td>0</td>\n",
       "      <td>1</td>\n",
       "      <td>0</td>\n",
       "      <td>942706.5993</td>\n",
       "      <td>1.494724e+06</td>\n",
       "      <td>33.442728</td>\n",
       "      <td>126.883592</td>\n",
       "      <td>제주특별자치도 서귀포시 성산읍 수산리</td>\n",
       "    </tr>\n",
       "    <tr>\n",
       "      <td>1589</td>\n",
       "      <td>279853</td>\n",
       "      <td>279853</td>\n",
       "      <td>202008</td>\n",
       "      <td>제주특별자치도</td>\n",
       "      <td>서귀포시</td>\n",
       "      <td>일반</td>\n",
       "      <td>기타음료식품</td>\n",
       "      <td>x시</td>\n",
       "      <td>16000</td>\n",
       "      <td>0</td>\n",
       "      <td>1</td>\n",
       "      <td>0</td>\n",
       "      <td>945001.5908</td>\n",
       "      <td>1.495585e+06</td>\n",
       "      <td>33.450610</td>\n",
       "      <td>126.908229</td>\n",
       "      <td>제주특별자치도 서귀포시 성산읍 고성리</td>\n",
       "    </tr>\n",
       "  </tbody>\n",
       "</table>\n",
       "<p>280085 rows × 17 columns</p>\n",
       "</div>"
      ],
      "text/plain": [
       "      OBJECTID  Field1      YM     SIDO SIGUNGU FranClass    Type Time  \\\n",
       "0            1       1  202008  제주특별자치도     제주시        영세    일반한식  00시   \n",
       "1            2       2  202008  제주특별자치도     제주시        영세    단란주점  00시   \n",
       "2            3       3  202008  제주특별자치도     제주시       중소1     편의점  00시   \n",
       "3            4       4  202008  제주특별자치도     제주시        영세     편의점  00시   \n",
       "4            5       5  202008  제주특별자치도     제주시        영세      주점  00시   \n",
       "...        ...     ...     ...      ...     ...       ...     ...  ...   \n",
       "1585    279501  279501  202008  제주특별자치도     제주시        일반    서양음식   x시   \n",
       "1586    279728  279728  202008  제주특별자치도     제주시        일반    서양음식   x시   \n",
       "1587    279785  279785  202008  제주특별자치도     제주시        영세   기타숙박업   x시   \n",
       "1588    279811  279811  202008  제주특별자치도    서귀포시        영세     제과점   x시   \n",
       "1589    279853  279853  202008  제주특별자치도    서귀포시        일반  기타음료식품   x시   \n",
       "\n",
       "      TotalSpent  DisSpent  NumofSpent  NumofDisSpent      POINT_X  \\\n",
       "0         249500         0           7              0  877005.9834   \n",
       "1        2010000         0           7              0  877005.7447   \n",
       "2         401210         0          41              0  877056.6756   \n",
       "3          12250         0           1              0  877055.9593   \n",
       "4          33000         0           1              0  877055.4817   \n",
       "...          ...       ...         ...            ...          ...   \n",
       "1585       10000         0           1              0  936031.5193   \n",
       "1586        2500         0           1              0  940163.7221   \n",
       "1587       17470         0           2              0  941114.0531   \n",
       "1588       40000         0           1              0  942706.5993   \n",
       "1589       16000         0           1              0  945001.5908   \n",
       "\n",
       "           POINT_Y        lat        long               address  \n",
       "0     1.479766e+06  33.302315  126.178894   제주특별자치도 제주시 한경면 고산리  \n",
       "1     1.479816e+06  33.302766  126.178884   제주특별자치도 제주시 한경면 고산리  \n",
       "2     1.479616e+06  33.300971  126.179458   제주특별자치도 제주시 한경면 고산리  \n",
       "3     1.479766e+06  33.302323  126.179430   제주특별자치도 제주시 한경면 고산리  \n",
       "4     1.479866e+06  33.303224  126.179412   제주특별자치도 제주시 한경면 고산리  \n",
       "...            ...        ...         ...                   ...  \n",
       "1585  1.500490e+06  33.494351  126.811369   제주특별자치도 제주시 구좌읍 평대리  \n",
       "1586  1.503859e+06  33.524971  126.855625   제주특별자치도 제주시 구좌읍 세화리  \n",
       "1587  1.503713e+06  33.523713  126.865869   제주특별자치도 제주시 구좌읍 하도리  \n",
       "1588  1.494724e+06  33.442728  126.883592  제주특별자치도 서귀포시 성산읍 수산리  \n",
       "1589  1.495585e+06  33.450610  126.908229  제주특별자치도 서귀포시 성산읍 고성리  \n",
       "\n",
       "[280085 rows x 17 columns]"
      ]
     },
     "execution_count": 183,
     "metadata": {},
     "output_type": "execute_result"
    }
   ],
   "source": [
    "df_aug"
   ]
  },
  {
   "cell_type": "code",
   "execution_count": 184,
   "metadata": {},
   "outputs": [],
   "source": [
    "df_may.to_csv(\"data_may.csv\")\n",
    "df_june.to_csv(\"data_june.csv\")\n",
    "df_july.to_csv(\"data_july.csv\")\n",
    "df_aug.to_csv(\"data_aug.csv\")"
   ]
  },
  {
   "cell_type": "markdown",
   "metadata": {},
   "source": [
    "## 월별 지역의 unique 갯수"
   ]
  },
  {
   "cell_type": "code",
   "execution_count": 188,
   "metadata": {},
   "outputs": [
    {
     "name": "stdout",
     "output_type": "stream",
     "text": [
      "184\n",
      "185\n",
      "185\n",
      "185\n"
     ]
    }
   ],
   "source": [
    "print(df_may['address'].nunique())\n",
    "print(df_june['address'].nunique())\n",
    "print(df_july['address'].nunique())\n",
    "print(df_aug['address'].nunique())"
   ]
  },
  {
   "cell_type": "markdown",
   "metadata": {},
   "source": [
    "5월에 비해 추가된 지역은 1곳이다"
   ]
  },
  {
   "cell_type": "code",
   "execution_count": 192,
   "metadata": {},
   "outputs": [
    {
     "data": {
      "text/plain": [
       "{'제주특별자치도 제주시 추자면 묵리'}"
      ]
     },
     "execution_count": 192,
     "metadata": {},
     "output_type": "execute_result"
    }
   ],
   "source": [
    "set(df_july['address'].unique()) - set(df_may['address'].unique())"
   ]
  },
  {
   "cell_type": "code",
   "execution_count": 194,
   "metadata": {},
   "outputs": [
    {
     "data": {
      "text/html": [
       "<div>\n",
       "<style scoped>\n",
       "    .dataframe tbody tr th:only-of-type {\n",
       "        vertical-align: middle;\n",
       "    }\n",
       "\n",
       "    .dataframe tbody tr th {\n",
       "        vertical-align: top;\n",
       "    }\n",
       "\n",
       "    .dataframe thead th {\n",
       "        text-align: right;\n",
       "    }\n",
       "</style>\n",
       "<table border=\"1\" class=\"dataframe\">\n",
       "  <thead>\n",
       "    <tr style=\"text-align: right;\">\n",
       "      <th></th>\n",
       "      <th>OBJECTID</th>\n",
       "      <th>Field1</th>\n",
       "      <th>YM</th>\n",
       "      <th>SIDO</th>\n",
       "      <th>SIGUNGU</th>\n",
       "      <th>FranClass</th>\n",
       "      <th>Type</th>\n",
       "      <th>Time</th>\n",
       "      <th>TotalSpent</th>\n",
       "      <th>DisSpent</th>\n",
       "      <th>NumofSpent</th>\n",
       "      <th>NumofDisSpent</th>\n",
       "      <th>POINT_X</th>\n",
       "      <th>POINT_Y</th>\n",
       "      <th>lat</th>\n",
       "      <th>long</th>\n",
       "      <th>address</th>\n",
       "    </tr>\n",
       "  </thead>\n",
       "  <tbody>\n",
       "    <tr>\n",
       "      <td>168</td>\n",
       "      <td>42616</td>\n",
       "      <td>42616</td>\n",
       "      <td>202006</td>\n",
       "      <td>제주특별자치도</td>\n",
       "      <td>제주시</td>\n",
       "      <td>영세</td>\n",
       "      <td>기타숙박업</td>\n",
       "      <td>10시</td>\n",
       "      <td>140000</td>\n",
       "      <td>0</td>\n",
       "      <td>1</td>\n",
       "      <td>0</td>\n",
       "      <td>890407.0176</td>\n",
       "      <td>1550898.51</td>\n",
       "      <td>33.945202</td>\n",
       "      <td>126.314052</td>\n",
       "      <td>제주특별자치도 제주시 추자면 묵리</td>\n",
       "    </tr>\n",
       "  </tbody>\n",
       "</table>\n",
       "</div>"
      ],
      "text/plain": [
       "     OBJECTID  Field1      YM     SIDO SIGUNGU FranClass   Type Time  \\\n",
       "168     42616   42616  202006  제주특별자치도     제주시        영세  기타숙박업  10시   \n",
       "\n",
       "     TotalSpent  DisSpent  NumofSpent  NumofDisSpent      POINT_X     POINT_Y  \\\n",
       "168      140000         0           1              0  890407.0176  1550898.51   \n",
       "\n",
       "           lat        long             address  \n",
       "168  33.945202  126.314052  제주특별자치도 제주시 추자면 묵리  "
      ]
     },
     "execution_count": 194,
     "metadata": {},
     "output_type": "execute_result"
    }
   ],
   "source": [
    "df_june[df_june['address'] == '제주특별자치도 제주시 추자면 묵리']"
   ]
  },
  {
   "cell_type": "code",
   "execution_count": 193,
   "metadata": {},
   "outputs": [
    {
     "data": {
      "text/html": [
       "<div>\n",
       "<style scoped>\n",
       "    .dataframe tbody tr th:only-of-type {\n",
       "        vertical-align: middle;\n",
       "    }\n",
       "\n",
       "    .dataframe tbody tr th {\n",
       "        vertical-align: top;\n",
       "    }\n",
       "\n",
       "    .dataframe thead th {\n",
       "        text-align: right;\n",
       "    }\n",
       "</style>\n",
       "<table border=\"1\" class=\"dataframe\">\n",
       "  <thead>\n",
       "    <tr style=\"text-align: right;\">\n",
       "      <th></th>\n",
       "      <th>OBJECTID</th>\n",
       "      <th>Field1</th>\n",
       "      <th>YM</th>\n",
       "      <th>SIDO</th>\n",
       "      <th>SIGUNGU</th>\n",
       "      <th>X</th>\n",
       "      <th>Y</th>\n",
       "      <th>FranClass</th>\n",
       "      <th>Type</th>\n",
       "      <th>Time</th>\n",
       "      <th>TotalSpent</th>\n",
       "      <th>DisSpent</th>\n",
       "      <th>NumofSpent</th>\n",
       "      <th>NumofDisSpent</th>\n",
       "      <th>POINT_X</th>\n",
       "      <th>POINT_Y</th>\n",
       "      <th>lat</th>\n",
       "      <th>long</th>\n",
       "      <th>address</th>\n",
       "    </tr>\n",
       "  </thead>\n",
       "  <tbody>\n",
       "    <tr>\n",
       "      <td>1654</td>\n",
       "      <td>226564</td>\n",
       "      <td>226564</td>\n",
       "      <td>202007</td>\n",
       "      <td>제주특별자치도</td>\n",
       "      <td>제주시</td>\n",
       "      <td>244400</td>\n",
       "      <td>151050</td>\n",
       "      <td>영세</td>\n",
       "      <td>기타숙박업</td>\n",
       "      <td>20시</td>\n",
       "      <td>50000</td>\n",
       "      <td>0</td>\n",
       "      <td>1</td>\n",
       "      <td>0</td>\n",
       "      <td>890457.2371</td>\n",
       "      <td>1.550849e+06</td>\n",
       "      <td>33.944759</td>\n",
       "      <td>126.314601</td>\n",
       "      <td>제주특별자치도 제주시 추자면 묵리</td>\n",
       "    </tr>\n",
       "  </tbody>\n",
       "</table>\n",
       "</div>"
      ],
      "text/plain": [
       "      OBJECTID  Field1      YM     SIDO SIGUNGU       X       Y FranClass  \\\n",
       "1654    226564  226564  202007  제주특별자치도     제주시  244400  151050        영세   \n",
       "\n",
       "       Type Time  TotalSpent  DisSpent  NumofSpent  NumofDisSpent  \\\n",
       "1654  기타숙박업  20시       50000         0           1              0   \n",
       "\n",
       "          POINT_X       POINT_Y        lat        long             address  \n",
       "1654  890457.2371  1.550849e+06  33.944759  126.314601  제주특별자치도 제주시 추자면 묵리  "
      ]
     },
     "execution_count": 193,
     "metadata": {},
     "output_type": "execute_result"
    }
   ],
   "source": [
    "df_july[df_july['address'] == '제주특별자치도 제주시 추자면 묵리']"
   ]
  },
  {
   "cell_type": "code",
   "execution_count": 195,
   "metadata": {},
   "outputs": [
    {
     "data": {
      "text/html": [
       "<div>\n",
       "<style scoped>\n",
       "    .dataframe tbody tr th:only-of-type {\n",
       "        vertical-align: middle;\n",
       "    }\n",
       "\n",
       "    .dataframe tbody tr th {\n",
       "        vertical-align: top;\n",
       "    }\n",
       "\n",
       "    .dataframe thead th {\n",
       "        text-align: right;\n",
       "    }\n",
       "</style>\n",
       "<table border=\"1\" class=\"dataframe\">\n",
       "  <thead>\n",
       "    <tr style=\"text-align: right;\">\n",
       "      <th></th>\n",
       "      <th>OBJECTID</th>\n",
       "      <th>Field1</th>\n",
       "      <th>YM</th>\n",
       "      <th>SIDO</th>\n",
       "      <th>SIGUNGU</th>\n",
       "      <th>FranClass</th>\n",
       "      <th>Type</th>\n",
       "      <th>Time</th>\n",
       "      <th>TotalSpent</th>\n",
       "      <th>DisSpent</th>\n",
       "      <th>NumofSpent</th>\n",
       "      <th>NumofDisSpent</th>\n",
       "      <th>POINT_X</th>\n",
       "      <th>POINT_Y</th>\n",
       "      <th>lat</th>\n",
       "      <th>long</th>\n",
       "      <th>address</th>\n",
       "    </tr>\n",
       "  </thead>\n",
       "  <tbody>\n",
       "    <tr>\n",
       "      <td>59</td>\n",
       "      <td>25180</td>\n",
       "      <td>25180</td>\n",
       "      <td>202008</td>\n",
       "      <td>제주특별자치도</td>\n",
       "      <td>제주시</td>\n",
       "      <td>영세</td>\n",
       "      <td>기타숙박업</td>\n",
       "      <td>08시</td>\n",
       "      <td>465000</td>\n",
       "      <td>0</td>\n",
       "      <td>1</td>\n",
       "      <td>0</td>\n",
       "      <td>890407.0176</td>\n",
       "      <td>1550898.51</td>\n",
       "      <td>33.945202</td>\n",
       "      <td>126.314052</td>\n",
       "      <td>제주특별자치도 제주시 추자면 묵리</td>\n",
       "    </tr>\n",
       "  </tbody>\n",
       "</table>\n",
       "</div>"
      ],
      "text/plain": [
       "    OBJECTID  Field1      YM     SIDO SIGUNGU FranClass   Type Time  \\\n",
       "59     25180   25180  202008  제주특별자치도     제주시        영세  기타숙박업  08시   \n",
       "\n",
       "    TotalSpent  DisSpent  NumofSpent  NumofDisSpent      POINT_X     POINT_Y  \\\n",
       "59      465000         0           1              0  890407.0176  1550898.51   \n",
       "\n",
       "          lat        long             address  \n",
       "59  33.945202  126.314052  제주특별자치도 제주시 추자면 묵리  "
      ]
     },
     "execution_count": 195,
     "metadata": {},
     "output_type": "execute_result"
    }
   ],
   "source": [
    "df_aug[df_aug['address'] == '제주특별자치도 제주시 추자면 묵리']"
   ]
  },
  {
   "cell_type": "markdown",
   "metadata": {},
   "source": [
    "재난 지원금 사용 x 그리고 월별 1번만 이용하는 것을 보임 이는 전체적인 경향을 보기에 어려운 데이터라고 할 수 있음(이상치)"
   ]
  },
  {
   "cell_type": "markdown",
   "metadata": {},
   "source": [
    "## 월별 지역간 업종 빈도수"
   ]
  },
  {
   "cell_type": "code",
   "execution_count": 198,
   "metadata": {},
   "outputs": [
    {
     "data": {
      "text/plain": [
       "array(['일반한식', '단란주점', '편의점', '주점', '스넥', '서양음식', '일식회집', '기타음료식품', '노래방',\n",
       "       '중국음식', '슈퍼마켓', '유흥주점', '기타숙박업', '기타레져업', '당구장', '농축수산품', '유아원',\n",
       "       '골프경기장', '세탁소', '가방', '콘도', '주차장', '문화취미기타', '주유소', '사무서비스',\n",
       "       '자동차정비', '특급호텔', '볼링장', '화장품', '기타회원제형태업소', '주류판매점', '제과점',\n",
       "       '피부미용실', '약국', '칵테일바', '정육점', '독서실', '스포츠레져용품', '골프용품', 'LPG',\n",
       "       '종합병원', '사우나', '화원', '의원', '안마스포츠마사지', '골프연습장', '2급호텔', '기타대인서비스',\n",
       "       '보습학원', '부동산분양', '화물운송', '애완동물', '동물병원', '대형할인점', '인터넷Mall', '항공사',\n",
       "       '헬스크럽', '기타유통업', '레져용품수리', '정장', '레져업소(회원제형태)', '관광여행', '1급호텔',\n",
       "       '침구수예점', '사진관', '악세사리', '보관창고업', '기념품점', '미용원', '영화관', '의료용품',\n",
       "       '세차장', '인터넷종합Mall', '기타잡화', '성인용품점', '상품권', '종합용역', '기계공구',\n",
       "       '조세서비스', '택시', '기타의료기관및기기', '가례서비스', '구내매점', '수영장', '목재석재철물',\n",
       "       '건축요업품', '기타업종', '렌트카', '종합레져타운', '유류판매', '농축협직영매장', '기타건축자재',\n",
       "       '비료농약사료종자', '농기계', '보일러펌프', '가전제품', '스포츠의류', '페인트', '미곡상',\n",
       "       '기타농업관련', '기타가구', '공공요금', '기능학원', '면세점', '기타교육', '위탁급식업', '이용원',\n",
       "       '조명기구', '문구용품', '인테리어', '민예공예품', '기타연료', '자동차부품', '기타용역서비스',\n",
       "       '기타운송', '연쇄점', '옷감직물', '한의원', '주방용식기', '카인테리어', '기타수리서비스',\n",
       "       '농협하나로클럽', '기타건강식', '티켓', '기타전기제품', '일반서적', '외국어학원', '건강진단',\n",
       "       '냉열기기', '소프트웨어', '내의판매점', '주방용구', '완구점', '유리', '자동차시트타이어',\n",
       "       '카페트커텐천막', '기타교통수단', '테니스장', '치과의원', '신발', '기타의류', '컴퓨터', '병원',\n",
       "       '가정용품수리', '단체복', '아동의류', '일반가구', '출판인쇄물', '치과병원', '서적출판(회원제형태)',\n",
       "       '카메라', '정수기', 'CATV', '기타사무용', '학원(회원제형태)', '이륜차판매', '철제가구',\n",
       "       '산후조리원', '견인서비스', '수족관', '양품점', '시계', '안경', '인삼제품', '홍삼제품', '한약방',\n",
       "       '중장비수리', '캐쥬얼의류', '과학기자재', '윤활유전문판매', '부동산중개임대', '여객선', '통신기기',\n",
       "       '귀금속', '건강식품(회원제형태)', '사무기기', '신변잡화수리', '미용재료', '예체능학원', '기타보험',\n",
       "       '사무통신기기수리', '법률회계서비스', '맞춤복점', '전문서적', '화방표구점', '손해보험', '악기점',\n",
       "       '기타자동차서비스', '정기간행물', '기타비영리유통', '화랑', '컴퓨터학원', '중고자동차', '제화점',\n",
       "       '대학등록금', '기타서적문구', '학습지교육', '수입자동차', '기타직물', 'DVD음반테이프판매', '기타광학품',\n",
       "       '제약회사', '초중고교육기관', '사무서비스(회원제형태)', '골동품점'], dtype=object)"
      ]
     },
     "execution_count": 198,
     "metadata": {},
     "output_type": "execute_result"
    }
   ],
   "source": [
    "df_may['Type'].unique()"
   ]
  },
  {
   "cell_type": "code",
   "execution_count": 206,
   "metadata": {},
   "outputs": [
    {
     "data": {
      "text/html": [
       "<div>\n",
       "<style scoped>\n",
       "    .dataframe tbody tr th:only-of-type {\n",
       "        vertical-align: middle;\n",
       "    }\n",
       "\n",
       "    .dataframe tbody tr th {\n",
       "        vertical-align: top;\n",
       "    }\n",
       "\n",
       "    .dataframe thead th {\n",
       "        text-align: right;\n",
       "    }\n",
       "</style>\n",
       "<table border=\"1\" class=\"dataframe\">\n",
       "  <thead>\n",
       "    <tr style=\"text-align: right;\">\n",
       "      <th></th>\n",
       "      <th>address</th>\n",
       "      <th>Type</th>\n",
       "      <th>OBJECTID</th>\n",
       "    </tr>\n",
       "  </thead>\n",
       "  <tbody>\n",
       "    <tr>\n",
       "      <td>0</td>\n",
       "      <td>제주특별자치도 제주시 연동</td>\n",
       "      <td>일반한식</td>\n",
       "      <td>5452</td>\n",
       "    </tr>\n",
       "    <tr>\n",
       "      <td>1</td>\n",
       "      <td>제주특별자치도 제주시 노형동</td>\n",
       "      <td>일반한식</td>\n",
       "      <td>4640</td>\n",
       "    </tr>\n",
       "    <tr>\n",
       "      <td>2</td>\n",
       "      <td>제주특별자치도 제주시 이도이동</td>\n",
       "      <td>일반한식</td>\n",
       "      <td>4421</td>\n",
       "    </tr>\n",
       "    <tr>\n",
       "      <td>3</td>\n",
       "      <td>제주특별자치도 서귀포시 서귀동</td>\n",
       "      <td>일반한식</td>\n",
       "      <td>3074</td>\n",
       "    </tr>\n",
       "    <tr>\n",
       "      <td>4</td>\n",
       "      <td>제주특별자치도 제주시 연동</td>\n",
       "      <td>편의점</td>\n",
       "      <td>2250</td>\n",
       "    </tr>\n",
       "    <tr>\n",
       "      <td>5</td>\n",
       "      <td>제주특별자치도 제주시 일도이동</td>\n",
       "      <td>일반한식</td>\n",
       "      <td>2117</td>\n",
       "    </tr>\n",
       "    <tr>\n",
       "      <td>6</td>\n",
       "      <td>제주특별자치도 제주시 노형동</td>\n",
       "      <td>편의점</td>\n",
       "      <td>1960</td>\n",
       "    </tr>\n",
       "    <tr>\n",
       "      <td>7</td>\n",
       "      <td>제주특별자치도 제주시 노형동</td>\n",
       "      <td>서양음식</td>\n",
       "      <td>1797</td>\n",
       "    </tr>\n",
       "    <tr>\n",
       "      <td>8</td>\n",
       "      <td>제주특별자치도 제주시 이도이동</td>\n",
       "      <td>서양음식</td>\n",
       "      <td>1445</td>\n",
       "    </tr>\n",
       "    <tr>\n",
       "      <td>9</td>\n",
       "      <td>제주특별자치도 제주시 이도이동</td>\n",
       "      <td>편의점</td>\n",
       "      <td>1425</td>\n",
       "    </tr>\n",
       "  </tbody>\n",
       "</table>\n",
       "</div>"
      ],
      "text/plain": [
       "            address  Type  OBJECTID\n",
       "0    제주특별자치도 제주시 연동  일반한식      5452\n",
       "1   제주특별자치도 제주시 노형동  일반한식      4640\n",
       "2  제주특별자치도 제주시 이도이동  일반한식      4421\n",
       "3  제주특별자치도 서귀포시 서귀동  일반한식      3074\n",
       "4    제주특별자치도 제주시 연동   편의점      2250\n",
       "5  제주특별자치도 제주시 일도이동  일반한식      2117\n",
       "6   제주특별자치도 제주시 노형동   편의점      1960\n",
       "7   제주특별자치도 제주시 노형동  서양음식      1797\n",
       "8  제주특별자치도 제주시 이도이동  서양음식      1445\n",
       "9  제주특별자치도 제주시 이도이동   편의점      1425"
      ]
     },
     "execution_count": 206,
     "metadata": {},
     "output_type": "execute_result"
    }
   ],
   "source": [
    "df_may.groupby(['address','Type'])['OBJECTID'].count().sort_values(ascending = False).reset_index().head(10)"
   ]
  },
  {
   "cell_type": "code",
   "execution_count": 210,
   "metadata": {},
   "outputs": [
    {
     "data": {
      "text/html": [
       "<div>\n",
       "<style scoped>\n",
       "    .dataframe tbody tr th:only-of-type {\n",
       "        vertical-align: middle;\n",
       "    }\n",
       "\n",
       "    .dataframe tbody tr th {\n",
       "        vertical-align: top;\n",
       "    }\n",
       "\n",
       "    .dataframe thead th {\n",
       "        text-align: right;\n",
       "    }\n",
       "</style>\n",
       "<table border=\"1\" class=\"dataframe\">\n",
       "  <thead>\n",
       "    <tr style=\"text-align: right;\">\n",
       "      <th></th>\n",
       "      <th>address</th>\n",
       "      <th>Type</th>\n",
       "      <th>OBJECTID</th>\n",
       "    </tr>\n",
       "  </thead>\n",
       "  <tbody>\n",
       "    <tr>\n",
       "      <td>0</td>\n",
       "      <td>제주특별자치도 제주시 연동</td>\n",
       "      <td>일반한식</td>\n",
       "      <td>5734</td>\n",
       "    </tr>\n",
       "    <tr>\n",
       "      <td>1</td>\n",
       "      <td>제주특별자치도 제주시 노형동</td>\n",
       "      <td>일반한식</td>\n",
       "      <td>4782</td>\n",
       "    </tr>\n",
       "    <tr>\n",
       "      <td>2</td>\n",
       "      <td>제주특별자치도 제주시 이도이동</td>\n",
       "      <td>일반한식</td>\n",
       "      <td>4542</td>\n",
       "    </tr>\n",
       "    <tr>\n",
       "      <td>3</td>\n",
       "      <td>제주특별자치도 서귀포시 서귀동</td>\n",
       "      <td>일반한식</td>\n",
       "      <td>3215</td>\n",
       "    </tr>\n",
       "    <tr>\n",
       "      <td>4</td>\n",
       "      <td>제주특별자치도 제주시 연동</td>\n",
       "      <td>편의점</td>\n",
       "      <td>2293</td>\n",
       "    </tr>\n",
       "    <tr>\n",
       "      <td>5</td>\n",
       "      <td>제주특별자치도 제주시 일도이동</td>\n",
       "      <td>일반한식</td>\n",
       "      <td>2229</td>\n",
       "    </tr>\n",
       "    <tr>\n",
       "      <td>6</td>\n",
       "      <td>제주특별자치도 제주시 노형동</td>\n",
       "      <td>편의점</td>\n",
       "      <td>1961</td>\n",
       "    </tr>\n",
       "    <tr>\n",
       "      <td>7</td>\n",
       "      <td>제주특별자치도 제주시 노형동</td>\n",
       "      <td>서양음식</td>\n",
       "      <td>1899</td>\n",
       "    </tr>\n",
       "    <tr>\n",
       "      <td>8</td>\n",
       "      <td>제주특별자치도 제주시 이도이동</td>\n",
       "      <td>서양음식</td>\n",
       "      <td>1520</td>\n",
       "    </tr>\n",
       "    <tr>\n",
       "      <td>9</td>\n",
       "      <td>제주특별자치도 서귀포시 동홍동</td>\n",
       "      <td>일반한식</td>\n",
       "      <td>1464</td>\n",
       "    </tr>\n",
       "  </tbody>\n",
       "</table>\n",
       "</div>"
      ],
      "text/plain": [
       "            address  Type  OBJECTID\n",
       "0    제주특별자치도 제주시 연동  일반한식      5734\n",
       "1   제주특별자치도 제주시 노형동  일반한식      4782\n",
       "2  제주특별자치도 제주시 이도이동  일반한식      4542\n",
       "3  제주특별자치도 서귀포시 서귀동  일반한식      3215\n",
       "4    제주특별자치도 제주시 연동   편의점      2293\n",
       "5  제주특별자치도 제주시 일도이동  일반한식      2229\n",
       "6   제주특별자치도 제주시 노형동   편의점      1961\n",
       "7   제주특별자치도 제주시 노형동  서양음식      1899\n",
       "8  제주특별자치도 제주시 이도이동  서양음식      1520\n",
       "9  제주특별자치도 서귀포시 동홍동  일반한식      1464"
      ]
     },
     "execution_count": 210,
     "metadata": {},
     "output_type": "execute_result"
    }
   ],
   "source": [
    "df_june.groupby(['address','Type'])['OBJECTID'].count().sort_values(ascending = False).reset_index().head(10)"
   ]
  },
  {
   "cell_type": "code",
   "execution_count": 207,
   "metadata": {},
   "outputs": [
    {
     "data": {
      "text/html": [
       "<div>\n",
       "<style scoped>\n",
       "    .dataframe tbody tr th:only-of-type {\n",
       "        vertical-align: middle;\n",
       "    }\n",
       "\n",
       "    .dataframe tbody tr th {\n",
       "        vertical-align: top;\n",
       "    }\n",
       "\n",
       "    .dataframe thead th {\n",
       "        text-align: right;\n",
       "    }\n",
       "</style>\n",
       "<table border=\"1\" class=\"dataframe\">\n",
       "  <thead>\n",
       "    <tr style=\"text-align: right;\">\n",
       "      <th></th>\n",
       "      <th>address</th>\n",
       "      <th>Type</th>\n",
       "      <th>OBJECTID</th>\n",
       "    </tr>\n",
       "  </thead>\n",
       "  <tbody>\n",
       "    <tr>\n",
       "      <td>0</td>\n",
       "      <td>제주특별자치도 제주시 연동</td>\n",
       "      <td>일반한식</td>\n",
       "      <td>5705</td>\n",
       "    </tr>\n",
       "    <tr>\n",
       "      <td>1</td>\n",
       "      <td>제주특별자치도 제주시 노형동</td>\n",
       "      <td>일반한식</td>\n",
       "      <td>4906</td>\n",
       "    </tr>\n",
       "    <tr>\n",
       "      <td>2</td>\n",
       "      <td>제주특별자치도 제주시 이도이동</td>\n",
       "      <td>일반한식</td>\n",
       "      <td>4526</td>\n",
       "    </tr>\n",
       "    <tr>\n",
       "      <td>3</td>\n",
       "      <td>제주특별자치도 서귀포시 서귀동</td>\n",
       "      <td>일반한식</td>\n",
       "      <td>3170</td>\n",
       "    </tr>\n",
       "    <tr>\n",
       "      <td>4</td>\n",
       "      <td>제주특별자치도 제주시 연동</td>\n",
       "      <td>편의점</td>\n",
       "      <td>2308</td>\n",
       "    </tr>\n",
       "    <tr>\n",
       "      <td>5</td>\n",
       "      <td>제주특별자치도 제주시 일도이동</td>\n",
       "      <td>일반한식</td>\n",
       "      <td>2217</td>\n",
       "    </tr>\n",
       "    <tr>\n",
       "      <td>6</td>\n",
       "      <td>제주특별자치도 제주시 노형동</td>\n",
       "      <td>편의점</td>\n",
       "      <td>1977</td>\n",
       "    </tr>\n",
       "    <tr>\n",
       "      <td>7</td>\n",
       "      <td>제주특별자치도 제주시 노형동</td>\n",
       "      <td>서양음식</td>\n",
       "      <td>1913</td>\n",
       "    </tr>\n",
       "    <tr>\n",
       "      <td>8</td>\n",
       "      <td>제주특별자치도 제주시 이도이동</td>\n",
       "      <td>서양음식</td>\n",
       "      <td>1522</td>\n",
       "    </tr>\n",
       "    <tr>\n",
       "      <td>9</td>\n",
       "      <td>제주특별자치도 제주시 조천읍 함덕리</td>\n",
       "      <td>일반한식</td>\n",
       "      <td>1478</td>\n",
       "    </tr>\n",
       "  </tbody>\n",
       "</table>\n",
       "</div>"
      ],
      "text/plain": [
       "               address  Type  OBJECTID\n",
       "0       제주특별자치도 제주시 연동  일반한식      5705\n",
       "1      제주특별자치도 제주시 노형동  일반한식      4906\n",
       "2     제주특별자치도 제주시 이도이동  일반한식      4526\n",
       "3     제주특별자치도 서귀포시 서귀동  일반한식      3170\n",
       "4       제주특별자치도 제주시 연동   편의점      2308\n",
       "5     제주특별자치도 제주시 일도이동  일반한식      2217\n",
       "6      제주특별자치도 제주시 노형동   편의점      1977\n",
       "7      제주특별자치도 제주시 노형동  서양음식      1913\n",
       "8     제주특별자치도 제주시 이도이동  서양음식      1522\n",
       "9  제주특별자치도 제주시 조천읍 함덕리  일반한식      1478"
      ]
     },
     "execution_count": 207,
     "metadata": {},
     "output_type": "execute_result"
    }
   ],
   "source": [
    "df_july.groupby(['address','Type'])['OBJECTID'].count().sort_values(ascending = False).reset_index().head(10)"
   ]
  },
  {
   "cell_type": "code",
   "execution_count": 208,
   "metadata": {},
   "outputs": [
    {
     "data": {
      "text/html": [
       "<div>\n",
       "<style scoped>\n",
       "    .dataframe tbody tr th:only-of-type {\n",
       "        vertical-align: middle;\n",
       "    }\n",
       "\n",
       "    .dataframe tbody tr th {\n",
       "        vertical-align: top;\n",
       "    }\n",
       "\n",
       "    .dataframe thead th {\n",
       "        text-align: right;\n",
       "    }\n",
       "</style>\n",
       "<table border=\"1\" class=\"dataframe\">\n",
       "  <thead>\n",
       "    <tr style=\"text-align: right;\">\n",
       "      <th></th>\n",
       "      <th>address</th>\n",
       "      <th>Type</th>\n",
       "      <th>OBJECTID</th>\n",
       "    </tr>\n",
       "  </thead>\n",
       "  <tbody>\n",
       "    <tr>\n",
       "      <td>0</td>\n",
       "      <td>제주특별자치도 제주시 연동</td>\n",
       "      <td>일반한식</td>\n",
       "      <td>5567</td>\n",
       "    </tr>\n",
       "    <tr>\n",
       "      <td>1</td>\n",
       "      <td>제주특별자치도 제주시 노형동</td>\n",
       "      <td>일반한식</td>\n",
       "      <td>4848</td>\n",
       "    </tr>\n",
       "    <tr>\n",
       "      <td>2</td>\n",
       "      <td>제주특별자치도 제주시 이도이동</td>\n",
       "      <td>일반한식</td>\n",
       "      <td>4349</td>\n",
       "    </tr>\n",
       "    <tr>\n",
       "      <td>3</td>\n",
       "      <td>제주특별자치도 서귀포시 서귀동</td>\n",
       "      <td>일반한식</td>\n",
       "      <td>3072</td>\n",
       "    </tr>\n",
       "    <tr>\n",
       "      <td>4</td>\n",
       "      <td>제주특별자치도 제주시 연동</td>\n",
       "      <td>편의점</td>\n",
       "      <td>2339</td>\n",
       "    </tr>\n",
       "    <tr>\n",
       "      <td>5</td>\n",
       "      <td>제주특별자치도 제주시 일도이동</td>\n",
       "      <td>일반한식</td>\n",
       "      <td>2128</td>\n",
       "    </tr>\n",
       "    <tr>\n",
       "      <td>6</td>\n",
       "      <td>제주특별자치도 제주시 노형동</td>\n",
       "      <td>편의점</td>\n",
       "      <td>1982</td>\n",
       "    </tr>\n",
       "    <tr>\n",
       "      <td>7</td>\n",
       "      <td>제주특별자치도 제주시 노형동</td>\n",
       "      <td>서양음식</td>\n",
       "      <td>1888</td>\n",
       "    </tr>\n",
       "    <tr>\n",
       "      <td>8</td>\n",
       "      <td>제주특별자치도 제주시 조천읍 함덕리</td>\n",
       "      <td>일반한식</td>\n",
       "      <td>1527</td>\n",
       "    </tr>\n",
       "    <tr>\n",
       "      <td>9</td>\n",
       "      <td>제주특별자치도 제주시 이도이동</td>\n",
       "      <td>서양음식</td>\n",
       "      <td>1514</td>\n",
       "    </tr>\n",
       "  </tbody>\n",
       "</table>\n",
       "</div>"
      ],
      "text/plain": [
       "               address  Type  OBJECTID\n",
       "0       제주특별자치도 제주시 연동  일반한식      5567\n",
       "1      제주특별자치도 제주시 노형동  일반한식      4848\n",
       "2     제주특별자치도 제주시 이도이동  일반한식      4349\n",
       "3     제주특별자치도 서귀포시 서귀동  일반한식      3072\n",
       "4       제주특별자치도 제주시 연동   편의점      2339\n",
       "5     제주특별자치도 제주시 일도이동  일반한식      2128\n",
       "6      제주특별자치도 제주시 노형동   편의점      1982\n",
       "7      제주특별자치도 제주시 노형동  서양음식      1888\n",
       "8  제주특별자치도 제주시 조천읍 함덕리  일반한식      1527\n",
       "9     제주특별자치도 제주시 이도이동  서양음식      1514"
      ]
     },
     "execution_count": 208,
     "metadata": {},
     "output_type": "execute_result"
    }
   ],
   "source": [
    "df_aug.groupby(['address','Type'])['OBJECTID'].count().sort_values(ascending = False).reset_index().head(10)"
   ]
  },
  {
   "cell_type": "markdown",
   "metadata": {},
   "source": [
    "- 각 동에서의 가게의 빈도 수는 변함이 거의 없음\n",
    "- 일반 한식의 비중이 상당함\n",
    "- 서양음식과 편의점의 빈도도 높은편"
   ]
  },
  {
   "cell_type": "markdown",
   "metadata": {},
   "source": [
    "연동, 노형동, 이도이동, 일도이동이 핫플인것인가?"
   ]
  },
  {
   "cell_type": "code",
   "execution_count": null,
   "metadata": {},
   "outputs": [],
   "source": []
  },
  {
   "cell_type": "code",
   "execution_count": 201,
   "metadata": {},
   "outputs": [
    {
     "data": {
      "text/html": [
       "<div>\n",
       "<style scoped>\n",
       "    .dataframe tbody tr th:only-of-type {\n",
       "        vertical-align: middle;\n",
       "    }\n",
       "\n",
       "    .dataframe tbody tr th {\n",
       "        vertical-align: top;\n",
       "    }\n",
       "\n",
       "    .dataframe thead th {\n",
       "        text-align: right;\n",
       "    }\n",
       "</style>\n",
       "<table border=\"1\" class=\"dataframe\">\n",
       "  <thead>\n",
       "    <tr style=\"text-align: right;\">\n",
       "      <th></th>\n",
       "      <th>OBJECTID</th>\n",
       "      <th>Field1</th>\n",
       "      <th>YM</th>\n",
       "      <th>SIDO</th>\n",
       "      <th>SIGUNGU</th>\n",
       "      <th>FranClass</th>\n",
       "      <th>Type</th>\n",
       "      <th>Time</th>\n",
       "      <th>TotalSpent</th>\n",
       "      <th>DisSpent</th>\n",
       "      <th>NumofSpent</th>\n",
       "      <th>NumofDisSpent</th>\n",
       "      <th>POINT_X</th>\n",
       "      <th>POINT_Y</th>\n",
       "      <th>lat</th>\n",
       "      <th>long</th>\n",
       "      <th>address</th>\n",
       "    </tr>\n",
       "  </thead>\n",
       "  <tbody>\n",
       "  </tbody>\n",
       "</table>\n",
       "</div>"
      ],
      "text/plain": [
       "Empty DataFrame\n",
       "Columns: [OBJECTID, Field1, YM, SIDO, SIGUNGU, FranClass, Type, Time, TotalSpent, DisSpent, NumofSpent, NumofDisSpent, POINT_X, POINT_Y, lat, long, address]\n",
       "Index: []"
      ]
     },
     "execution_count": 201,
     "metadata": {},
     "output_type": "execute_result"
    }
   ],
   "source": [
    "df_june[df_june['NumofSpent'] == 0]"
   ]
  },
  {
   "cell_type": "code",
   "execution_count": 199,
   "metadata": {},
   "outputs": [
    {
     "data": {
      "text/html": [
       "<div>\n",
       "<style scoped>\n",
       "    .dataframe tbody tr th:only-of-type {\n",
       "        vertical-align: middle;\n",
       "    }\n",
       "\n",
       "    .dataframe tbody tr th {\n",
       "        vertical-align: top;\n",
       "    }\n",
       "\n",
       "    .dataframe thead th {\n",
       "        text-align: right;\n",
       "    }\n",
       "</style>\n",
       "<table border=\"1\" class=\"dataframe\">\n",
       "  <thead>\n",
       "    <tr style=\"text-align: right;\">\n",
       "      <th></th>\n",
       "      <th>OBJECTID</th>\n",
       "      <th>Field1</th>\n",
       "      <th>YM</th>\n",
       "      <th>SIDO</th>\n",
       "      <th>SIGUNGU</th>\n",
       "      <th>FranClass</th>\n",
       "      <th>Type</th>\n",
       "      <th>Time</th>\n",
       "      <th>TotalSpent</th>\n",
       "      <th>DisSpent</th>\n",
       "      <th>NumofSpent</th>\n",
       "      <th>NumofDisSpent</th>\n",
       "      <th>POINT_X</th>\n",
       "      <th>POINT_Y</th>\n",
       "      <th>lat</th>\n",
       "      <th>long</th>\n",
       "      <th>address</th>\n",
       "    </tr>\n",
       "  </thead>\n",
       "  <tbody>\n",
       "    <tr>\n",
       "      <td>1052</td>\n",
       "      <td>1053</td>\n",
       "      <td>1053</td>\n",
       "      <td>202005</td>\n",
       "      <td>제주특별자치도</td>\n",
       "      <td>제주시</td>\n",
       "      <td>중소</td>\n",
       "      <td>일반한식</td>\n",
       "      <td>00시</td>\n",
       "      <td>160500</td>\n",
       "      <td>0</td>\n",
       "      <td>4</td>\n",
       "      <td>0</td>\n",
       "      <td>905294.5896</td>\n",
       "      <td>1.500392e+06</td>\n",
       "      <td>33.491191</td>\n",
       "      <td>126.480530</td>\n",
       "      <td>제주특별자치도 제주시 연동</td>\n",
       "    </tr>\n",
       "    <tr>\n",
       "      <td>1117</td>\n",
       "      <td>1118</td>\n",
       "      <td>1118</td>\n",
       "      <td>202005</td>\n",
       "      <td>제주특별자치도</td>\n",
       "      <td>제주시</td>\n",
       "      <td>영세</td>\n",
       "      <td>일반한식</td>\n",
       "      <td>00시</td>\n",
       "      <td>123000</td>\n",
       "      <td>53000</td>\n",
       "      <td>4</td>\n",
       "      <td>2</td>\n",
       "      <td>905544.7169</td>\n",
       "      <td>1.500344e+06</td>\n",
       "      <td>33.490773</td>\n",
       "      <td>126.483227</td>\n",
       "      <td>제주특별자치도 제주시 연동</td>\n",
       "    </tr>\n",
       "    <tr>\n",
       "      <td>1118</td>\n",
       "      <td>1119</td>\n",
       "      <td>1119</td>\n",
       "      <td>202005</td>\n",
       "      <td>제주특별자치도</td>\n",
       "      <td>제주시</td>\n",
       "      <td>일반</td>\n",
       "      <td>일반한식</td>\n",
       "      <td>00시</td>\n",
       "      <td>99000</td>\n",
       "      <td>0</td>\n",
       "      <td>4</td>\n",
       "      <td>0</td>\n",
       "      <td>905544.4770</td>\n",
       "      <td>1.500394e+06</td>\n",
       "      <td>33.491223</td>\n",
       "      <td>126.483219</td>\n",
       "      <td>제주특별자치도 제주시 연동</td>\n",
       "    </tr>\n",
       "    <tr>\n",
       "      <td>1215</td>\n",
       "      <td>1216</td>\n",
       "      <td>1216</td>\n",
       "      <td>202005</td>\n",
       "      <td>제주특별자치도</td>\n",
       "      <td>제주시</td>\n",
       "      <td>영세</td>\n",
       "      <td>일반한식</td>\n",
       "      <td>00시</td>\n",
       "      <td>23600</td>\n",
       "      <td>23600</td>\n",
       "      <td>1</td>\n",
       "      <td>1</td>\n",
       "      <td>905743.1872</td>\n",
       "      <td>1.500645e+06</td>\n",
       "      <td>33.493503</td>\n",
       "      <td>126.485332</td>\n",
       "      <td>제주특별자치도 제주시 연동</td>\n",
       "    </tr>\n",
       "    <tr>\n",
       "      <td>1230</td>\n",
       "      <td>1231</td>\n",
       "      <td>1231</td>\n",
       "      <td>202005</td>\n",
       "      <td>제주특별자치도</td>\n",
       "      <td>제주시</td>\n",
       "      <td>영세</td>\n",
       "      <td>일반한식</td>\n",
       "      <td>00시</td>\n",
       "      <td>235000</td>\n",
       "      <td>0</td>\n",
       "      <td>5</td>\n",
       "      <td>0</td>\n",
       "      <td>905846.7414</td>\n",
       "      <td>1.499895e+06</td>\n",
       "      <td>33.486756</td>\n",
       "      <td>126.486525</td>\n",
       "      <td>제주특별자치도 제주시 연동</td>\n",
       "    </tr>\n",
       "    <tr>\n",
       "      <td>...</td>\n",
       "      <td>...</td>\n",
       "      <td>...</td>\n",
       "      <td>...</td>\n",
       "      <td>...</td>\n",
       "      <td>...</td>\n",
       "      <td>...</td>\n",
       "      <td>...</td>\n",
       "      <td>...</td>\n",
       "      <td>...</td>\n",
       "      <td>...</td>\n",
       "      <td>...</td>\n",
       "      <td>...</td>\n",
       "      <td>...</td>\n",
       "      <td>...</td>\n",
       "      <td>...</td>\n",
       "      <td>...</td>\n",
       "      <td>...</td>\n",
       "    </tr>\n",
       "    <tr>\n",
       "      <td>270378</td>\n",
       "      <td>270379</td>\n",
       "      <td>270379</td>\n",
       "      <td>202005</td>\n",
       "      <td>제주특별자치도</td>\n",
       "      <td>제주시</td>\n",
       "      <td>중소</td>\n",
       "      <td>일반한식</td>\n",
       "      <td>x시</td>\n",
       "      <td>16000</td>\n",
       "      <td>0</td>\n",
       "      <td>1</td>\n",
       "      <td>0</td>\n",
       "      <td>906999.3436</td>\n",
       "      <td>1.499251e+06</td>\n",
       "      <td>33.481047</td>\n",
       "      <td>126.498997</td>\n",
       "      <td>제주특별자치도 제주시 연동</td>\n",
       "    </tr>\n",
       "    <tr>\n",
       "      <td>270389</td>\n",
       "      <td>270390</td>\n",
       "      <td>270390</td>\n",
       "      <td>202005</td>\n",
       "      <td>제주특별자치도</td>\n",
       "      <td>제주시</td>\n",
       "      <td>영세</td>\n",
       "      <td>일반한식</td>\n",
       "      <td>x시</td>\n",
       "      <td>30000</td>\n",
       "      <td>0</td>\n",
       "      <td>1</td>\n",
       "      <td>0</td>\n",
       "      <td>907048.8414</td>\n",
       "      <td>1.499351e+06</td>\n",
       "      <td>33.481955</td>\n",
       "      <td>126.499519</td>\n",
       "      <td>제주특별자치도 제주시 연동</td>\n",
       "    </tr>\n",
       "    <tr>\n",
       "      <td>270390</td>\n",
       "      <td>270391</td>\n",
       "      <td>270391</td>\n",
       "      <td>202005</td>\n",
       "      <td>제주특별자치도</td>\n",
       "      <td>제주시</td>\n",
       "      <td>중소1</td>\n",
       "      <td>일반한식</td>\n",
       "      <td>x시</td>\n",
       "      <td>35000</td>\n",
       "      <td>0</td>\n",
       "      <td>2</td>\n",
       "      <td>0</td>\n",
       "      <td>907047.1621</td>\n",
       "      <td>1.499701e+06</td>\n",
       "      <td>33.485110</td>\n",
       "      <td>126.499465</td>\n",
       "      <td>제주특별자치도 제주시 연동</td>\n",
       "    </tr>\n",
       "    <tr>\n",
       "      <td>270401</td>\n",
       "      <td>270402</td>\n",
       "      <td>270402</td>\n",
       "      <td>202005</td>\n",
       "      <td>제주특별자치도</td>\n",
       "      <td>제주시</td>\n",
       "      <td>중소1</td>\n",
       "      <td>일반한식</td>\n",
       "      <td>x시</td>\n",
       "      <td>30000</td>\n",
       "      <td>0</td>\n",
       "      <td>1</td>\n",
       "      <td>0</td>\n",
       "      <td>907099.2988</td>\n",
       "      <td>1.499252e+06</td>\n",
       "      <td>33.481060</td>\n",
       "      <td>126.500073</td>\n",
       "      <td>제주특별자치도 제주시 연동</td>\n",
       "    </tr>\n",
       "    <tr>\n",
       "      <td>270405</td>\n",
       "      <td>270406</td>\n",
       "      <td>270406</td>\n",
       "      <td>202005</td>\n",
       "      <td>제주특별자치도</td>\n",
       "      <td>제주시</td>\n",
       "      <td>영세</td>\n",
       "      <td>일반한식</td>\n",
       "      <td>x시</td>\n",
       "      <td>15000</td>\n",
       "      <td>0</td>\n",
       "      <td>1</td>\n",
       "      <td>0</td>\n",
       "      <td>907148.0769</td>\n",
       "      <td>1.499502e+06</td>\n",
       "      <td>33.483320</td>\n",
       "      <td>126.500572</td>\n",
       "      <td>제주특별자치도 제주시 연동</td>\n",
       "    </tr>\n",
       "  </tbody>\n",
       "</table>\n",
       "<p>5452 rows × 17 columns</p>\n",
       "</div>"
      ],
      "text/plain": [
       "        OBJECTID  Field1      YM     SIDO SIGUNGU FranClass  Type Time  \\\n",
       "1052        1053    1053  202005  제주특별자치도     제주시        중소  일반한식  00시   \n",
       "1117        1118    1118  202005  제주특별자치도     제주시        영세  일반한식  00시   \n",
       "1118        1119    1119  202005  제주특별자치도     제주시        일반  일반한식  00시   \n",
       "1215        1216    1216  202005  제주특별자치도     제주시        영세  일반한식  00시   \n",
       "1230        1231    1231  202005  제주특별자치도     제주시        영세  일반한식  00시   \n",
       "...          ...     ...     ...      ...     ...       ...   ...  ...   \n",
       "270378    270379  270379  202005  제주특별자치도     제주시        중소  일반한식   x시   \n",
       "270389    270390  270390  202005  제주특별자치도     제주시        영세  일반한식   x시   \n",
       "270390    270391  270391  202005  제주특별자치도     제주시       중소1  일반한식   x시   \n",
       "270401    270402  270402  202005  제주특별자치도     제주시       중소1  일반한식   x시   \n",
       "270405    270406  270406  202005  제주특별자치도     제주시        영세  일반한식   x시   \n",
       "\n",
       "        TotalSpent  DisSpent  NumofSpent  NumofDisSpent      POINT_X  \\\n",
       "1052        160500         0           4              0  905294.5896   \n",
       "1117        123000     53000           4              2  905544.7169   \n",
       "1118         99000         0           4              0  905544.4770   \n",
       "1215         23600     23600           1              1  905743.1872   \n",
       "1230        235000         0           5              0  905846.7414   \n",
       "...            ...       ...         ...            ...          ...   \n",
       "270378       16000         0           1              0  906999.3436   \n",
       "270389       30000         0           1              0  907048.8414   \n",
       "270390       35000         0           2              0  907047.1621   \n",
       "270401       30000         0           1              0  907099.2988   \n",
       "270405       15000         0           1              0  907148.0769   \n",
       "\n",
       "             POINT_Y        lat        long         address  \n",
       "1052    1.500392e+06  33.491191  126.480530  제주특별자치도 제주시 연동  \n",
       "1117    1.500344e+06  33.490773  126.483227  제주특별자치도 제주시 연동  \n",
       "1118    1.500394e+06  33.491223  126.483219  제주특별자치도 제주시 연동  \n",
       "1215    1.500645e+06  33.493503  126.485332  제주특별자치도 제주시 연동  \n",
       "1230    1.499895e+06  33.486756  126.486525  제주특별자치도 제주시 연동  \n",
       "...              ...        ...         ...             ...  \n",
       "270378  1.499251e+06  33.481047  126.498997  제주특별자치도 제주시 연동  \n",
       "270389  1.499351e+06  33.481955  126.499519  제주특별자치도 제주시 연동  \n",
       "270390  1.499701e+06  33.485110  126.499465  제주특별자치도 제주시 연동  \n",
       "270401  1.499252e+06  33.481060  126.500073  제주특별자치도 제주시 연동  \n",
       "270405  1.499502e+06  33.483320  126.500572  제주특별자치도 제주시 연동  \n",
       "\n",
       "[5452 rows x 17 columns]"
      ]
     },
     "execution_count": 199,
     "metadata": {},
     "output_type": "execute_result"
    }
   ],
   "source": [
    "df_may[(df_may['address'] == \"제주특별자치도 제주시 연동\") & (df_may['Type'] == \"일반한식\") ]"
   ]
  },
  {
   "cell_type": "markdown",
   "metadata": {},
   "source": [
    "새로 생성한 address를 이용하여 지역을 구분할 수 있다."
   ]
  }
 ],
 "metadata": {
  "kernelspec": {
   "display_name": "Python 3",
   "language": "python",
   "name": "python3"
  },
  "language_info": {
   "codemirror_mode": {
    "name": "ipython",
    "version": 3
   },
   "file_extension": ".py",
   "mimetype": "text/x-python",
   "name": "python",
   "nbconvert_exporter": "python",
   "pygments_lexer": "ipython3",
   "version": "3.7.4"
  }
 },
 "nbformat": 4,
 "nbformat_minor": 2
}
